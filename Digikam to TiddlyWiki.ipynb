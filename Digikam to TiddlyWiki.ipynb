{
 "cells": [
  {
   "cell_type": "markdown",
   "metadata": {},
   "source": [
    "# Making tiddlers for TiddlyWiki from info in digiKam's SQLite database"
   ]
  },
  {
   "cell_type": "markdown",
   "metadata": {},
   "source": [
    "## Format of a tiddler file\n",
    "\n",
    "### .tid files\n",
    "\n",
    "Looks like .tid files have some properties as key-value pairs, followed by the wikitext content of the text property. Like: \n",
    "\n",
    "```\n",
    "created: 20191113202135473\n",
    "creator: Chris\n",
    "modified: 20191114214534251\n",
    "modifier: Chris\n",
    "title: Ni!\n",
    "\n",
    "\n",
    "Linking images is important. Can't store everything in a tiddlywiki.\n",
    "\n",
    "Timelines and calendar views.......\n",
    "\n",
    "Inventory of stuff?\n",
    "\n",
    "[[Link to local video file]] (text link, no thumbnail)\n",
    "(etc)\n",
    "```\n",
    "\n",
    "I need to write `created`, (maybe) `modified`, and `title` fields, and then the `text`, at minimum.\n",
    "\n",
    "### .json files\n",
    "\n",
    "If I export multiple tiddlers to a .json file from a running TW, it (unsurprisingly) generates an array of JSON objects; each object being a tiddler. If I export one, it generates an array with one object in it:\n",
    "\n",
    "```\n",
    "[\n",
    "    {\n",
    "        \"created\": \"20200217220140442\",\n",
    "        \"text\": \"This tiddler has this text\",\n",
    "        \"title\": \"A tiddler I made\",\n",
    "        \"tags\": \"[[tag with spaces in it]] sampletag2 taggy\",\n",
    "        \"modified\": \"20200217220655739\",\n",
    "        \"custom_field\": \"this is the value of my custom field\"\n",
    "    }\n",
    "]\n",
    "```\n",
    "\n"
   ]
  },
  {
   "cell_type": "markdown",
   "metadata": {},
   "source": [
    "Browsing around with sqlitebrowser, I locate some things I may want to read from the database.\n",
    "\n",
    "| Thing | Table1:Column Name | Table2:Column Name (if any) |\n",
    "|:---|:---|:---|\n",
    "| Name of a tag | Tags:`name` |  |\n",
    "| Integer id of a tag | Tags:`id` | ImageTags:`tagid` | \n",
    "| Integer id of an image | ImageTags:`imageid` | Images:`id` |\n",
    "| Filename of an image | Images:`name` |  |\n",
    "| Integer id of an album | Images:`album` | Albums:`id` |\n",
    "| Relative path of an album within the root album | Albums:`relativePath` |\n",
    "| Integer id of the root album an album belongs to | Albums:`albumRoot` | AlbumRoots:`id` |\n",
    "| Path on disk of the root album | AlbumRoots:`specificPath` |\n",
    "| Comment | ImageComments : `comment` |\n",
    "| File creation date | ImageInformation : `creationDate` |"
   ]
  },
  {
   "cell_type": "code",
   "execution_count": 1,
   "metadata": {},
   "outputs": [],
   "source": [
    "import sqlite3\n",
    "import pathlib\n",
    "import json\n",
    "\n",
    "# TW wants double quotes in the JSON tiddler objects and Python's converting my dict to single quotes.\n",
    "# Solution: https://stackoverflow.com/a/18283904 (could just call json.dumps() instead of defining a class for it)\n",
    "class doubleQuoteDict(dict):\n",
    "    def __str__(self):\n",
    "        return json.dumps(self)\n",
    "\n",
    "    def __repr__(self):\n",
    "        return json.dumps(self)"
   ]
  },
  {
   "cell_type": "code",
   "execution_count": 2,
   "metadata": {},
   "outputs": [],
   "source": [
    "conn = sqlite3.connect('file:digikam4.db?mode=ro', uri=True)\n",
    "curs = conn.cursor()"
   ]
  },
  {
   "cell_type": "code",
   "execution_count": 3,
   "metadata": {},
   "outputs": [],
   "source": [
    "def get_file_path(imageid_tuple):\n",
    "    # Get the indices needed to retrieve strings we can build a path with:\n",
    "    # Because I want the album id as a tuple to use as an argument, I'll make an individual search for it.\n",
    "    album_id = curs.execute('SELECT album from Images WHERE id == ?', imageid_tuple).fetchone()\n",
    "    if album_id == 'None':\n",
    "        print('No album id: database probably not updated since image deleted.')\n",
    "        return 'None'\n",
    "    else:\n",
    "        albumRoot_id = curs.execute('SELECT albumRoot from Albums WHERE id == ?', album_id).fetchone()\n",
    "        # To build up a complete path starting from the root dir of the collection, need AlbumRoots:specificPath+Albums:relativePath+Images:name\n",
    "        # For these, I want strings, not tuples, so it would be nice for the output to come like that:\n",
    "        curs.row_factory = lambda cursor, row: str(row[0])\n",
    "        specificPath = curs.execute('SELECT specificPath from AlbumRoots WHERE id == ?', albumRoot_id).fetchone()\n",
    "        relativePath = curs.execute('SELECT relativePath from Albums WHERE id == ?', album_id).fetchone()\n",
    "        f_name = curs.execute('SELECT name from Images WHERE id == ?', imageid_tuple).fetchone()\n",
    "        curs.row_factory = None\n",
    "        return (f_name, 'file://'+the_disk+specificPath+relativePath+'/'+f_name)"
   ]
  },
  {
   "cell_type": "code",
   "execution_count": 4,
   "metadata": {},
   "outputs": [],
   "source": [
    "def get_image_info(imageid_tuple):\n",
    "    res_tuple = curs.execute(\"SELECT orientation, width, height, format from ImageInformation WHERE imageid == ?\", imageid_tuple).fetchone()\n",
    "    # format is a string like 'JPG', 'RAW-NEF', 'AVI' etc\n",
    "    res_str = tuple([ str(i) for i in res_tuple ])\n",
    "    return res_str   #  '(orientation, width, height, file_type)'"
   ]
  },
  {
   "cell_type": "code",
   "execution_count": 5,
   "metadata": {},
   "outputs": [],
   "source": [
    "def get_file_date(imageid_tuple):\n",
    "    # To construct a tiddler filename/title, I might want some date info.\n",
    "    # For now choose creation date, which is in the ImageInformation table.\n",
    "    creation_date = str(curs.execute(\"SELECT creationDate from ImageInformation WHERE imageid == ?\", imageid_tuple).fetchone()[0])\n",
    "    d = datetime.fromisoformat(creation_date)\n",
    "    return d.strftime('%Y-%m-%dT%H:%M:%S')"
   ]
  },
  {
   "cell_type": "code",
   "execution_count": 6,
   "metadata": {},
   "outputs": [],
   "source": [
    "def get_caption(imageid_tuple):\n",
    "    caption = curs.execute(\"SELECT comment from ImageComments WHERE imageid == ?\", imageid_tuple).fetchone()\n",
    "    if caption: \n",
    "        return str(caption[0])\n",
    "    else:\n",
    "        return ''"
   ]
  },
  {
   "cell_type": "code",
   "execution_count": 7,
   "metadata": {},
   "outputs": [],
   "source": [
    "def get_tags(imageid_tuple):\n",
    "    # If I got the images using tags, this list can't be empty\n",
    "    tag_names = []\n",
    "    tag_ids = curs.execute(\"SELECT tagid from ImageTags WHERE imageid == ?\", imageid_tuple).fetchall()\n",
    "    curs.row_factory = lambda cursor, row: row[0]\n",
    "    for tag in tag_ids:\n",
    "        tag_names.append(curs.execute(\"SELECT name from Tags WHERE id == ?\", tag).fetchone()) \n",
    "    curs.row_factory = None\n",
    "    return format_tag_list(tag_names)\n"
   ]
  },
  {
   "cell_type": "code",
   "execution_count": 8,
   "metadata": {},
   "outputs": [],
   "source": [
    "def format_tag_list(tag_names):\n",
    "    # TW tag property separates tags by spaces. Tags with spaces in them are surrounded by double square brackets\n",
    "    tw_tag_string = ''\n",
    "    for name in tag_names:\n",
    "        if ' ' in name:\n",
    "            name = '[['+name+']]'\n",
    "        tw_tag_string += ' '+name\n",
    "    tw_tag_string += ' [[Digikam Image]]'\n",
    "    return(tw_tag_string)"
   ]
  },
  {
   "cell_type": "code",
   "execution_count": 19,
   "metadata": {},
   "outputs": [],
   "source": [
    "def output_as_tid_file():\n",
    "    tiddler_string = '\\\n",
    "    created: '+time_now+'\\n\\\n",
    "    creator: '+creator+'\\n\\\n",
    "    modified: '+time_now+'\\n\\\n",
    "    modifier: '+creator+'\\n\\\n",
    "    tags: '+image_tags+'\\n\\\n",
    "    title: '+tiddler_title+'\\n\\\n",
    "    caption: '+image_caption+'\\n\\\n",
    "    file_date: '+file_date+'\\n\\\n",
    "    local_file: '+whole_file_path+'\\n\\\n",
    "    orientation: '+orientation+'\\n\\\n",
    "    rotate: '+rotate+'\\n\\\n",
    "    img_width: '+width+'\\n\\\n",
    "    img_height: '+height+'\\n\\\n",
    "    file_type: '+ftype+' \\n\\\n",
    "    text: '+embed_text\n",
    "    workfile = tiddler_title+'.tid'\n",
    "    filepath = tid_subdir_path / workfile # p is a Path object\n",
    "    with filepath.open(\"w\", encoding =\"utf-8\") as f: # I use with, the file gets closed automatically when done.\n",
    "        f.write(tiddler_string)\n",
    "    return"
   ]
  },
  {
   "cell_type": "code",
   "execution_count": 11,
   "metadata": {},
   "outputs": [],
   "source": [
    "def append_tiddler_dict():\n",
    "    tiddler_dict = {\n",
    "        \"created\": time_now,\n",
    "        \"creator\": creator,\n",
    "        \"modified\": time_now,\n",
    "        \"modifier\": creator,\n",
    "        \"tags\": image_tags,\n",
    "        \"title\": tiddler_title,\n",
    "        \"caption\": image_caption,\n",
    "        \"file_date\": file_date,\n",
    "        \"local_file\": whole_file_path,\n",
    "        \"orientation\": orientation,\n",
    "        \"rotate\": rotate,\n",
    "        \"img_width\": width,\n",
    "        \"img_height\": height,\n",
    "        \"file_type\": ftype,\n",
    "        \"text\": embed_text\n",
    "        }\n",
    "    multiple_tiddlers.append(doubleQuoteDict(tiddler_dict)) # see class def for doubleQuoteDict above\n",
    "    return"
   ]
  },
  {
   "cell_type": "markdown",
   "metadata": {},
   "source": [
    "## 1) Get the tag's id"
   ]
  },
  {
   "cell_type": "code",
   "execution_count": 12,
   "metadata": {},
   "outputs": [],
   "source": [
    "# Initialize some things\n",
    "the_disk = \"/data\"\n",
    "the_tag = \"birds\", # Note the comma, which makes this a tuple\n",
    "image_ids = [] "
   ]
  },
  {
   "cell_type": "code",
   "execution_count": 13,
   "metadata": {},
   "outputs": [
    {
     "name": "stdout",
     "output_type": "stream",
     "text": [
      "(25,)\n"
     ]
    }
   ],
   "source": [
    "hit = curs.execute(\"SELECT id from Tags WHERE name == ?\", the_tag).fetchone()\n",
    "if not hit:\n",
    "    print(\"no tag called \"+ the_tag + \" found\")\n",
    "else:\n",
    "    the_tag_id = hit\n",
    "    \n",
    "print(the_tag_id)"
   ]
  },
  {
   "cell_type": "markdown",
   "metadata": {},
   "source": [
    "## 2) Get all `imageid`s matching the tag's `tagid` from the ImageTags table."
   ]
  },
  {
   "cell_type": "code",
   "execution_count": 14,
   "metadata": {},
   "outputs": [],
   "source": [
    "image_ids = []\n",
    "hits = curs.execute(\"SELECT imageid from ImageTags WHERE tagid == ?\", the_tag_id )\n",
    "for row in hits:\n",
    "    image_ids.append(row)\n",
    "# output is a list of singleton tuples "
   ]
  },
  {
   "cell_type": "markdown",
   "metadata": {},
   "source": [
    "## Step 3) will loop through the image ids and get info from the database about that image, then compose a tiddler for each. \n",
    "\n",
    "Then it will write either a lot of .tid files or one.json file containing the tiddlers."
   ]
  },
  {
   "cell_type": "code",
   "execution_count": 20,
   "metadata": {
    "scrolled": false
   },
   "outputs": [],
   "source": [
    "from datetime import datetime \n",
    "\n",
    "multiple_tiddlers = []\n",
    "\n",
    "p = pathlib.Path(\"./\")\n",
    "tid_subdir_name = 'tiddlers'+str(datetime.utcnow().strftime('%Y%m%d%H%M%S%f'))\n",
    "tid_subdir_path = p / tid_subdir_name\n",
    "tid_subdir_path.mkdir(exist_ok=True)\n",
    "\n",
    "# Some choices for TiddlyWiki\n",
    "\n",
    "creator = 'chris'\n",
    "modifier = 'chris'\n",
    "\n",
    "# Some filetypes I may run into -- NOTE the raw files should be handled a little differently because they\n",
    "# can't be previewed as images in the browser -- but so far I haven't done anything\n",
    "ftypes = {'bmp':'image/bmp', 'jpg':'image/jpeg', 'gif':'image/gif',\\\n",
    "          'png':'image/png', 'avi':'video/x-msvideo', 'mpeg':'video/mpeg', \\\n",
    "          'mp4':'video/mp4', 'raw-rw2':'image/x-panasonic-rw2', \\\n",
    "          'raw-nef':'image/x-nikon-nef', 'raw-crw':'image/x-canon-crw'}\n",
    "\n",
    "# Corrections needed according to the orientations in the ImageInformation table (some of the zeros are guesses)\n",
    "rots = {'None':'0', '0':'0', '1':'0', '3':'180', '6':'90', '8':'270'}\n",
    "\n",
    "for imid in image_ids:\n",
    "    # Get the current time in UTC, in the format TiddlyWiki uses for dates\n",
    "    time_now = str(datetime.utcnow().strftime('%Y%m%d%H%M%S%f')[:-3])\n",
    "    # Get fields for tiddlers using database data\n",
    "    (f_name, whole_file_path) = get_file_path(imid)\n",
    "    (orientation, width, height, file_type) = get_image_info(imid)\n",
    "    file_date = get_file_date(imid)\n",
    "    image_caption = get_caption(imid)\n",
    "    rotate = rots[orientation]\n",
    "    image_tags = get_tags(imid)\n",
    "\n",
    "    first8chars = file_date[:8]\n",
    "    tiddler_title = first8chars+f_name\n",
    "    \n",
    "    ftype = ftypes[file_type.lower()] # referring to the dict I made earlier\n",
    "    # Should be tidy and make a function for this too\n",
    "    if ftype[:5] == 'video':\n",
    "        embed_text = '<<vid>>'\n",
    "    elif ftype[:5] == 'image':\n",
    "        embed_text = '<<dkampic>>'\n",
    "    else:\n",
    "        embed_text = 'Didn\\'t find a video or image filetype...'\n",
    "\n",
    "    # If I want individual .tid files for composing a TW using node.js:\n",
    "    output_as_tid_file()\n",
    "    \n",
    "    ## If making one json file:\n",
    "    #append_tiddler_dict()\n",
    "\n",
    "# Done with the database\n",
    "conn.close()\n",
    "\n",
    "\n",
    "###==== If putting all into one json file =====\n",
    "# # Construct a filename to write into:\n",
    "# workfile = 'tiddlers'+time_now+'.json'\n",
    "# filepath = p / workfile\n",
    "\n",
    "# # If I use with, the file gets closed automatically when done.\n",
    "# with filepath.open(\"w\", encoding =\"utf-8\") as f: \n",
    "#     f.write(str(multiple_tiddlers))\n",
    "\n"
   ]
  },
  {
   "cell_type": "code",
   "execution_count": null,
   "metadata": {},
   "outputs": [],
   "source": []
  }
 ],
 "metadata": {
  "kernelspec": {
   "display_name": "Python 3",
   "language": "python",
   "name": "python3"
  },
  "language_info": {
   "codemirror_mode": {
    "name": "ipython",
    "version": 3
   },
   "file_extension": ".py",
   "mimetype": "text/x-python",
   "name": "python",
   "nbconvert_exporter": "python",
   "pygments_lexer": "ipython3",
   "version": "3.7.6"
  }
 },
 "nbformat": 4,
 "nbformat_minor": 2
}
